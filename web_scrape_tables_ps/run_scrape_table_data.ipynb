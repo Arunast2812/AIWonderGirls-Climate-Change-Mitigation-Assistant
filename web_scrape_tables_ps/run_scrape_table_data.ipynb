{
  "nbformat": 4,
  "nbformat_minor": 0,
  "metadata": {
    "colab": {
      "name": "run_web_scrape_ps.ipynb",
      "provenance": [],
      "collapsed_sections": []
    },
    "kernelspec": {
      "name": "python3",
      "display_name": "Python 3"
    },
    "language_info": {
      "name": "python"
    }
  },
  "cells": [
    {
      "cell_type": "markdown",
      "metadata": {
        "id": "Qw_Ad6bEC9hA"
      },
      "source": [
        "#### Connect to gdrive"
      ]
    },
    {
      "cell_type": "code",
      "metadata": {
        "colab": {
          "base_uri": "https://localhost:8080/"
        },
        "id": "tivygPzOWYOo",
        "outputId": "fd52b3d4-9b0a-45b2-b7e0-7cc9841c1bc7"
      },
      "source": [
        "# Mount drive\n",
        "from google.colab import drive\n",
        "drive.mount('/content/drive')"
      ],
      "execution_count": 1,
      "outputs": [
        {
          "output_type": "stream",
          "name": "stdout",
          "text": [
            "Drive already mounted at /content/drive; to attempt to forcibly remount, call drive.mount(\"/content/drive\", force_remount=True).\n"
          ]
        }
      ]
    },
    {
      "cell_type": "markdown",
      "metadata": {
        "id": "YM3mbScHoGoC"
      },
      "source": [
        "#### Install libraries"
      ]
    },
    {
      "cell_type": "code",
      "metadata": {
        "colab": {
          "base_uri": "https://localhost:8080/"
        },
        "id": "tfu4iIdRoJBg",
        "outputId": "5accd117-33dc-4c60-bcf4-9d54259af676"
      },
      "source": [
        "# !pip install requests\n",
        "!pip install beautifulsoup4\n",
        "!pip install urllib3"
      ],
      "execution_count": 2,
      "outputs": [
        {
          "output_type": "stream",
          "name": "stdout",
          "text": [
            "Requirement already satisfied: beautifulsoup4 in /usr/local/lib/python3.7/dist-packages (4.6.3)\n",
            "Requirement already satisfied: urllib3 in /usr/local/lib/python3.7/dist-packages (1.24.3)\n"
          ]
        }
      ]
    },
    {
      "cell_type": "markdown",
      "metadata": {
        "id": "e5ITnM91oY_K"
      },
      "source": [
        "#### Import libraries"
      ]
    },
    {
      "cell_type": "code",
      "metadata": {
        "id": "RI8ImQG5VWMM"
      },
      "source": [
        "import os\n",
        "import sys\n"
      ],
      "execution_count": 3,
      "outputs": []
    },
    {
      "cell_type": "markdown",
      "metadata": {
        "id": "pvQZATUxTM9N"
      },
      "source": [
        "#### Add to sys path and import script"
      ]
    },
    {
      "cell_type": "code",
      "metadata": {
        "id": "3Qf1oQpZSvz_"
      },
      "source": [
        "script_path = \"/content/drive/MyDrive/Alibaba Challenge (Climate Change)/Samples/web_scrape_ps\"\n",
        "sys.path.append(script_path)\n"
      ],
      "execution_count": 4,
      "outputs": []
    },
    {
      "cell_type": "code",
      "metadata": {
        "id": "D-pP6Ai4TSSi"
      },
      "source": [
        "from scrape_data import *"
      ],
      "execution_count": 5,
      "outputs": []
    },
    {
      "cell_type": "markdown",
      "metadata": {
        "id": "ew_QzTNtX-X_"
      },
      "source": [
        "#### Set up links and extract"
      ]
    },
    {
      "cell_type": "code",
      "metadata": {
        "id": "NXt4ekEgYHCy"
      },
      "source": [
        "url_links = \"https://drawdown.org/solutions/table-of-solutions\"\n",
        "url_tags = \"tableofsolutions\"\n",
        "save_type = \"csv\""
      ],
      "execution_count": 6,
      "outputs": []
    },
    {
      "cell_type": "markdown",
      "metadata": {
        "id": "UhzOZ2BcYB5f"
      },
      "source": [
        "##### Local - my drive location"
      ]
    },
    {
      "cell_type": "code",
      "metadata": {
        "id": "Xjnl6iqWblkS"
      },
      "source": [
        "!rm -rf /content/site_table"
      ],
      "execution_count": 7,
      "outputs": []
    },
    {
      "cell_type": "code",
      "metadata": {
        "colab": {
          "base_uri": "https://localhost:8080/"
        },
        "id": "iPSvMat3CKre",
        "outputId": "71e5c6d7-f3bc-4432-8f8a-b8ac50df58be"
      },
      "source": [
        "# Save locally\n",
        "path_to_save = \"/content/site_table\"\n",
        "\n",
        "# Set link and tag array and call extract_site_tables function\n",
        "url_link_arr = url_links.split(\",\")\n",
        "url_tag_arr = url_tags.split(\",\")\n",
        "extract_site_tables(url_link_arr, url_tag_arr, path_to_save, save_type)\n",
        "\n"
      ],
      "execution_count": 8,
      "outputs": [
        {
          "output_type": "stream",
          "name": "stdout",
          "text": [
            "Start Extract at 1630434095.37...\n",
            "Extracting tables for: \n",
            " https://drawdown.org/solutions/table-of-solutions at 1630434095.37...\n",
            "Saved table1 for tableofsolutions in /content/site_table\n",
            "Completed extracting tables for: \n",
            " https://drawdown.org/solutions/table-of-solutions in 0.36 seconds.\n",
            "Extract completed!\n",
            "Total time for all data extraction: 0.36 seconds.\n"
          ]
        }
      ]
    },
    {
      "cell_type": "code",
      "metadata": {
        "colab": {
          "base_uri": "https://localhost:8080/"
        },
        "id": "wqPTap9aX4bA",
        "outputId": "41eda5b0-b02f-42b5-ac7e-1caf869fa5cb"
      },
      "source": [
        "# Save to alibaba gdrive location\n",
        "base_path = \"/content/drive/MyDrive/Alibaba Challenge (Climate Change)\"\n",
        "path_to_save = os.path.join(base_path, \"Data/datasets\")\n",
        "\n",
        "# Set link and tag array and call extract_site_tables function\n",
        "url_link_arr = url_links.split(\",\")\n",
        "url_tag_arr = url_tags.split(\",\")\n",
        "extract_site_tables(url_link_arr, url_tag_arr, path_to_save, save_type)\n"
      ],
      "execution_count": 9,
      "outputs": [
        {
          "output_type": "stream",
          "name": "stdout",
          "text": [
            "Start Extract at 1630434132.93...\n",
            "Extracting tables for: \n",
            " https://drawdown.org/solutions/table-of-solutions at 1630434132.93...\n",
            "Saved table1 for tableofsolutions in /content/drive/MyDrive/Alibaba Challenge (Climate Change)/Data/datasets\n",
            "Completed extracting tables for: \n",
            " https://drawdown.org/solutions/table-of-solutions in 0.2 seconds.\n",
            "Extract completed!\n",
            "Total time for all data extraction: 0.2 seconds.\n"
          ]
        }
      ]
    }
  ]
}